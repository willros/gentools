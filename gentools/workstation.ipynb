{
 "cells": [
  {
   "cell_type": "code",
   "execution_count": null,
   "id": "813299f3-b3b5-428b-aa67-86513c2901c9",
   "metadata": {},
   "outputs": [],
   "source": [
    "from pathlib import Path\n",
    "import pandas as pd \n",
    "import numpy as np\n",
    "from plotnine import * \n"
   ]
  },
  {
   "cell_type": "code",
   "execution_count": null,
   "id": "7a75e5dd-ffc1-44b1-b7f6-05b9858cbf05",
   "metadata": {},
   "outputs": [],
   "source": [
    "folder = Path('../smallTseq/nya_gentools/results/')\n",
    "unwanted_files = ['coldata', 'de_genes']\n",
    "file_list = sorted([file for file in folder.iterdir() if file.suffix == '.csv' and file.stem not in unwanted_files])\n",
    "names = [file.stem for file in file_list]\n",
    "\n",
    "df_list = [pd.read_csv(file).assign(program=file.stem) for file in file_list]\n",
    "total_df = pd.concat(df_list)\n",
    "total_df['name'] = [x.split('_')[0] for x in total_df['name']]\n",
    "\n",
    "raw = (total_df\n",
    "    .groupby('name')\n",
    "    .max()\n",
    "    .reset_index()\n",
    "    .assign(program='raw')\n",
    "    .drop('post_filtering', axis=1)\n",
    "    .rename({'pre_filtering': 'value'}, axis=1))\n",
    "\n",
    "total_df = (total_df\n",
    "    .drop('pre_filtering', axis=1)\n",
    "    .rename({'post_filtering':'value'}, axis=1))\n",
    "\n",
    "plot = pd.concat([total_df, raw], ignore_index=True)\n",
    "\n"
   ]
  },
  {
   "cell_type": "code",
   "execution_count": null,
   "id": "27f4cca4-1803-4f4b-93cc-1f624c6c3059",
   "metadata": {
    "tags": []
   },
   "outputs": [],
   "source": [
    "fig = (plot >> \n",
    "       mutate(program = fct_reorder(f.program, f.value)) >>\n",
    "       ggplot(aes('program', 'value', fill='program')) +\n",
    "       geom_col() + facet_wrap('name') + \n",
    "       coord_flip() +\n",
    "       theme_seaborn() +\n",
    "       theme(axis_text_x = element_text(angle = 90)) +\n",
    "       labs(x='', \n",
    "           y='Number of reads',\n",
    "           title='Reads filtered by each program'))\n",
    "    \n",
    "\n",
    "\n",
    "\n"
   ]
  },
  {
   "cell_type": "code",
   "execution_count": null,
   "id": "6e03a296-dbb2-419b-bb87-65cfaf5b3559",
   "metadata": {},
   "outputs": [],
   "source": [
    "def plot_col_all(config: str) -> None:\n",
    "    '''Creates a facet plot over all samples and the relationship between reads after each processing step'''\n",
    "    \n",
    "    folder = CreateFolders(config)\n",
    "    unwanted_files = ['coldata', 'de_genes']\n",
    "    file_list = sorted([file for file in folder.results.iterdir() if file.suffix == '.csv' and file.stem not in unwanted_files])\n",
    "    \n",
    "    df_list = [pd.read_csv(file).assign(program=file.stem) for file in file_list]\n",
    "    total_df = pd.concat(df_list)\n",
    "    total_df['name'] = [x.split('_')[0] for x in total_df['name']]\n",
    "    \n",
    "    raw = (total_df\n",
    "    .groupby('name')\n",
    "    .max()\n",
    "    .reset_index()\n",
    "    .assign(program='raw')\n",
    "    .drop('post_filtering', axis=1)\n",
    "    .rename({'pre_filtering': 'value'}, axis=1))\n",
    "\n",
    "    total_df = (total_df\n",
    "    .drop('pre_filtering', axis=1)\n",
    "    .rename({'post_filtering':'value'}, axis=1))\n",
    "\n",
    "    plot = pd.concat([total_df, raw], ignore_index=True)\n",
    "    \n",
    "    fig = (plot >> \n",
    "       mutate(program = fct_reorder(f.program, f.value)) >>\n",
    "       ggplot(aes('program', 'value', fill='program')) +\n",
    "       geom_col() + facet_wrap('name') + \n",
    "       coord_flip() +\n",
    "       theme_seaborn() +\n",
    "       theme(axis_text_x = element_text(angle = 90)) +\n",
    "       labs(x='', \n",
    "           y='Number of reads',\n",
    "           title='Reads filtered by each program'))\n",
    "    \n",
    "    fig_save_name = folder.results / 'processed_files_all.pdf'\n",
    "    plot_save_name = folder.results / 'concatenated_processing_file.csv'\n",
    "    plot.to_csv(plot_save_name, index=False)\n",
    "    \n",
    "    \n"
   ]
  },
  {
   "cell_type": "code",
   "execution_count": null,
   "id": "375404a0-7ab8-4660-b23b-58e822f70e69",
   "metadata": {},
   "outputs": [],
   "source": [
    "\n",
    "\n",
    "fig = (plot >> \n",
    "       ggplot(aes('reorder(program, value)', 'value', fill='program')) +\n",
    "       geom_col() + facet_wrap('name', scales='free') + \n",
    "       coord_flip() +\n",
    "       theme_seaborn() +\n",
    "       theme(axis_text_x=element_text(angle=90)) +\n",
    "       labs(x='', \n",
    "           y='Number of reads',\n",
    "           title='Reads filtered by each program') +\n",
    "       theme(legend_title=element_blank(),\n",
    "            axis_text_y=element_blank()))\n",
    "\n",
    "fig"
   ]
  },
  {
   "cell_type": "code",
   "execution_count": null,
   "id": "5119ef13-c187-49c9-8d83-d7d3b583c59e",
   "metadata": {},
   "outputs": [],
   "source": [
    "import re \n",
    "\n",
    "log = '../SRR3495859_umi_tools_extract.log'\n",
    "with open(log, 'r') as f:\n",
    "    log_file = f.read()\n",
    "\n",
    "pattern_pre = re.compile(r'Total reads processed: +([\\d,]+)')\n",
    "pattern_post = re.compile(r'Reads written \\(passing filters\\): +([\\d,]+)')\n",
    "\n",
    "match_pre = re.findall(pattern_pre, log_file)\n",
    "\n",
    "match_pre\n",
    "match_post = re.findall(pattern_post, log_file)"
   ]
  },
  {
   "cell_type": "code",
   "execution_count": null,
   "id": "5000c01b-cc90-45da-825a-de19382aa2eb",
   "metadata": {},
   "outputs": [],
   "source": [
    "test = 'SRRR88888'\n",
    "test.split('_')[0]"
   ]
  },
  {
   "cell_type": "code",
   "execution_count": 1,
   "id": "012ed94d-2a96-4890-9249-24a3b5dc8baa",
   "metadata": {},
   "outputs": [],
   "source": [
    "from programs import FeatureCountsCommando"
   ]
  },
  {
   "cell_type": "code",
   "execution_count": 8,
   "id": "290052e1-1fa4-4893-8cc9-055423984809",
   "metadata": {},
   "outputs": [
    {
     "data": {
      "text/plain": [
       "'### Setup ###\\n\\n# Enter the directory containing the raw reads and a directory name that you want to use as a working directory\\n\\nraw_reads: data_smallseq_10_files\\nworking_directory: gentools_smallseq_10_files\\nthreads: 6\\n\\n### Preprocessing ###  \\n\\n# The default configuration is optimized to work with miRNA data. Especially libraries prepared with the \\n# Small-seq protocol. \\n\\numi_tools_extract:\\n- input: raw\\n- mode: extract\\n- extract-method: regex\\n- bc-pattern: (?P<discard_1>.*)(?P<umi_1>[ACT]{8}CA)\\n\\n# For trimmed only enter Y for yes and N for no if you want cutadapt to only keep reads that have been filtered.\\n\\ncutadapt:\\n- input: umi_tools_extract\\n- adapter: TGGAATTCTCGGGTGCCAAGG\\n- minimum-length: 18\\n- maximum-length: 41\\n- error-rate: 0.1\\n- overlap: 1\\n- trimmed_only?: N\\n\\n# enter folder and prefix of index name, e.g. index/human_genome/hg38\\n\\nbowtie2:\\n- input: cutadapt\\n- k: 100\\n- local: very-sensitive-local\\n- x: /bowtie2_index/genome/GRCh38\\n\\n\\numi_tools_dedup:\\n- input: bowtie2_aligned\\n- mode: dedup\\n- method: unique\\n\\n\\n# enter the path to the annotation file (a), GTF or GFF\\n\\nfeatureCounts:\\n- input: bowtie2_aligned\\n- M:\\n- O:\\n- a: gencode.v39.annotation.gtf.gz\\n\\n# Enter the coldata for the two conditions of the dataset. For example, cancer: 1 - 10, normal: 11 - 20\\n\\nDESeq2:\\n- input: featureCounts\\n- coldata:\\n    - cancer: 1 - 10\\n    - normal: 11 - 20\\n\\n\\n# Write the programs in the order that you want to run them in. This order will be run by the run-pipe command.\\n\\norder:\\n- umi_tools_extract\\n- cutadapt\\n- bowtie2\\n- umi_tools_dedup\\n- featureCounts\\n- DESeq2\\n'"
      ]
     },
     "execution_count": 8,
     "metadata": {},
     "output_type": "execute_result"
    }
   ],
   "source": [
    "import yaml\n",
    "\n",
    "with open('../test_yaml.yaml', 'r') as f:\n",
    "    file = f.read()\n",
    "    \n",
    "file"
   ]
  }
 ],
 "metadata": {
  "kernelspec": {
   "display_name": "Python 3 (ipykernel)",
   "language": "python",
   "name": "python3"
  },
  "language_info": {
   "codemirror_mode": {
    "name": "ipython",
    "version": 3
   },
   "file_extension": ".py",
   "mimetype": "text/x-python",
   "name": "python",
   "nbconvert_exporter": "python",
   "pygments_lexer": "ipython3",
   "version": "3.10.2"
  }
 },
 "nbformat": 4,
 "nbformat_minor": 5
}
