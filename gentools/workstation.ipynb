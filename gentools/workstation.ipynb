{
 "cells": [
  {
   "cell_type": "code",
   "execution_count": null,
   "id": "33ffe46d-f9bc-4bbe-8ec5-ef82e341b46d",
   "metadata": {},
   "outputs": [],
   "source": [
    "from programs import CutadaptCommando\n",
    "%cd .."
   ]
  },
  {
   "cell_type": "code",
   "execution_count": null,
   "id": "043a8469-47d6-43cb-bc09-baaa42dc9418",
   "metadata": {},
   "outputs": [],
   "source": [
    "cut = CutadaptCommando('test_yaml.yaml')"
   ]
  },
  {
   "cell_type": "code",
   "execution_count": null,
   "id": "d388fcdd-9a9c-4d4c-b67b-78e47b1713d9",
   "metadata": {},
   "outputs": [],
   "source": [
    "for a,b in cut.create_command():\n",
    "    print(a)"
   ]
  },
  {
   "cell_type": "code",
   "execution_count": 4,
   "id": "62a3e4a6-6449-44ab-8cc1-b189623d70cc",
   "metadata": {},
   "outputs": [
    {
     "name": "stdout",
     "output_type": "stream",
     "text": [
      "/Users/williamrosenbaum/Bioinformatics/gentools\n"
     ]
    }
   ],
   "source": [
    "from programs import FeatureCountsCommando\n",
    "%cd .."
   ]
  },
  {
   "cell_type": "code",
   "execution_count": 5,
   "id": "5fc8d6cb-7c57-43bb-9d59-6ceffdf39a97",
   "metadata": {},
   "outputs": [],
   "source": [
    "fet = FeatureCountsCommando('test_yaml.yaml')"
   ]
  },
  {
   "cell_type": "code",
   "execution_count": 7,
   "id": "de6b936f-9bb6-4c5d-90a1-5a45defcd9ea",
   "metadata": {},
   "outputs": [
    {
     "data": {
      "text/plain": [
       "[]"
      ]
     },
     "execution_count": 7,
     "metadata": {},
     "output_type": "execute_result"
    }
   ],
   "source": [
    "fet.input_files"
   ]
  }
 ],
 "metadata": {
  "kernelspec": {
   "display_name": "Python 3 (ipykernel)",
   "language": "python",
   "name": "python3"
  },
  "language_info": {
   "codemirror_mode": {
    "name": "ipython",
    "version": 3
   },
   "file_extension": ".py",
   "mimetype": "text/x-python",
   "name": "python",
   "nbconvert_exporter": "python",
   "pygments_lexer": "ipython3",
   "version": "3.9.9"
  }
 },
 "nbformat": 4,
 "nbformat_minor": 5
}
