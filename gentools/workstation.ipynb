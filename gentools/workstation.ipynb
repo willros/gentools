{
 "cells": [
  {
   "cell_type": "code",
   "execution_count": 381,
   "id": "813299f3-b3b5-428b-aa67-86513c2901c9",
   "metadata": {},
   "outputs": [],
   "source": [
    "from pathlib import Path\n",
    "import pandas as pd \n",
    "import numpy as np\n",
    "from plotnine import * \n",
    "import datar.all"
   ]
  },
  {
   "cell_type": "code",
   "execution_count": 344,
   "id": "7a75e5dd-ffc1-44b1-b7f6-05b9858cbf05",
   "metadata": {},
   "outputs": [],
   "source": [
    "folder = Path('../smallTseq/nya_gentools/results/')\n",
    "unwanted_files = ['coldata', 'de_genes']\n",
    "file_list = sorted([file for file in folder.iterdir() if file.suffix == '.csv' and file.stem not in unwanted_files])\n",
    "names = [file.stem for file in file_list]\n",
    "\n",
    "df_list = [pd.read_csv(file).assign(program=file.stem) for file in file_list]\n",
    "total_df = pd.concat(df_list)\n",
    "total_df['name'] = [x.split('_')[0] for x in total_df['name']]\n",
    "\n",
    "raw = (total_df\n",
    "    .groupby('name')\n",
    "    .max()\n",
    "    .reset_index()\n",
    "    .assign(program='raw')\n",
    "    .drop('post_filtering', axis=1)\n",
    "    .rename({'pre_filtering': 'value'}, axis=1))\n",
    "\n",
    "total_df = (total_df\n",
    "    .drop('pre_filtering', axis=1)\n",
    "    .rename({'post_filtering':'value'}, axis=1))\n",
    "\n",
    "plot = pd.concat([total_df, raw], ignore_index=True)\n",
    "\n"
   ]
  },
  {
   "cell_type": "code",
   "execution_count": 354,
   "id": "27f4cca4-1803-4f4b-93cc-1f624c6c3059",
   "metadata": {
    "tags": []
   },
   "outputs": [
    {
     "name": "stderr",
     "output_type": "stream",
     "text": [
      "/Users/williamrosenbaum/opt/miniconda3/envs/smallseq/lib/python3.9/site-packages/plotnine/ggplot.py:719: PlotnineWarning: Saving 6.4 x 4.8 in image.\n",
      "/Users/williamrosenbaum/opt/miniconda3/envs/smallseq/lib/python3.9/site-packages/plotnine/ggplot.py:722: PlotnineWarning: Filename: preprocessed.pdf\n"
     ]
    }
   ],
   "source": [
    "fig = (plot >> \n",
    "       mutate(program = fct_reorder(f.program, f.value)) >>\n",
    "       ggplot(aes('program', 'value', fill='program')) +\n",
    "       geom_col() + facet_wrap('name') + \n",
    "       coord_flip() +\n",
    "       theme_seaborn() +\n",
    "       theme(axis_text_x = element_text(angle = 90)) +\n",
    "       labs(x='', \n",
    "           y='Number of reads',\n",
    "           title='Reads filtered by each program'))\n",
    "    \n",
    "\n",
    "\n",
    "\n"
   ]
  },
  {
   "cell_type": "code",
   "execution_count": 355,
   "id": "6e03a296-dbb2-419b-bb87-65cfaf5b3559",
   "metadata": {},
   "outputs": [],
   "source": [
    "def plot_col_all(config: str) -> None:\n",
    "    '''Creates a facet plot over all samples and the relationship between reads after each processing step'''\n",
    "    \n",
    "    folder = CreateFolders(config)\n",
    "    unwanted_files = ['coldata', 'de_genes']\n",
    "    file_list = sorted([file for file in folder.results.iterdir() if file.suffix == '.csv' and file.stem not in unwanted_files])\n",
    "    \n",
    "    df_list = [pd.read_csv(file).assign(program=file.stem) for file in file_list]\n",
    "    total_df = pd.concat(df_list)\n",
    "    total_df['name'] = [x.split('_')[0] for x in total_df['name']]\n",
    "    \n",
    "    raw = (total_df\n",
    "    .groupby('name')\n",
    "    .max()\n",
    "    .reset_index()\n",
    "    .assign(program='raw')\n",
    "    .drop('post_filtering', axis=1)\n",
    "    .rename({'pre_filtering': 'value'}, axis=1))\n",
    "\n",
    "    total_df = (total_df\n",
    "    .drop('pre_filtering', axis=1)\n",
    "    .rename({'post_filtering':'value'}, axis=1))\n",
    "\n",
    "    plot = pd.concat([total_df, raw], ignore_index=True)\n",
    "    \n",
    "    fig = (plot >> \n",
    "       mutate(program = fct_reorder(f.program, f.value)) >>\n",
    "       ggplot(aes('program', 'value', fill='program')) +\n",
    "       geom_col() + facet_wrap('name') + \n",
    "       coord_flip() +\n",
    "       theme_seaborn() +\n",
    "       theme(axis_text_x = element_text(angle = 90)) +\n",
    "       labs(x='', \n",
    "           y='Number of reads',\n",
    "           title='Reads filtered by each program'))\n",
    "    \n",
    "    fig_save_name = folder.results / 'processed_files_all.pdf'\n",
    "    plot_save_name = folder.results / 'concatenated_processing_file.csv'\n",
    "    plot.to_csv(plot_save_name, index=False)\n",
    "    \n",
    "    \n"
   ]
  },
  {
   "cell_type": "code",
   "execution_count": 439,
   "id": "375404a0-7ab8-4660-b23b-58e822f70e69",
   "metadata": {},
   "outputs": [
    {
     "name": "stderr",
     "output_type": "stream",
     "text": [
      "/Users/williamrosenbaum/opt/miniconda3/envs/smallseq/lib/python3.9/site-packages/plotnine/facets/facet.py:390: PlotnineWarning: If you need more space for the x-axis tick text use ... + theme(subplots_adjust={'wspace': 0.25}). Choose an appropriate value for 'wspace'.\n"
     ]
    },
    {
     "data": {
      "image/png": "[encoded data removed]",
      "text/plain": [
       "<Figure size 640x480 with 3 Axes>"
      ]
     },
     "metadata": {},
     "output_type": "display_data"
    },
    {
     "data": {
      "text/plain": [
       "<ggplot: (381574072)>"
      ]
     },
     "execution_count": 439,
     "metadata": {},
     "output_type": "execute_result"
    }
   ],
   "source": [
    "\n",
    "\n",
    "fig = (plot >> \n",
    "       ggplot(aes('reorder(program, value)', 'value', fill='program')) +\n",
    "       geom_col() + facet_wrap('name', scales='free') + \n",
    "       coord_flip() +\n",
    "       theme_seaborn() +\n",
    "       theme(axis_text_x=element_text(angle=90)) +\n",
    "       labs(x='', \n",
    "           y='Number of reads',\n",
    "           title='Reads filtered by each program') +\n",
    "       theme(legend_title=element_blank(),\n",
    "            axis_text_y=element_blank()))\n",
    "\n",
    "fig"
   ]
  },
  {
   "cell_type": "code",
   "execution_count": 416,
   "id": "5119ef13-c187-49c9-8d83-d7d3b583c59e",
   "metadata": {},
   "outputs": [],
   "source": [
    "import re \n",
    "\n",
    "log = '../SRR3495859_umi_tools_extract.log'\n",
    "with open(log, 'r') as f:\n",
    "    log_file = f.read()\n",
    "\n",
    "pattern_pre = re.compile(r'Total reads processed: +([\\d,]+)')\n",
    "pattern_post = re.compile(r'Reads written \\(passing filters\\): +([\\d,]+)')\n",
    "\n",
    "match_pre = re.findall(pattern_pre, log_file)\n",
    "\n",
    "match_pre\n",
    "match_post = re.findall(pattern_post, log_file)"
   ]
  },
  {
   "cell_type": "code",
   "execution_count": 419,
   "id": "5000c01b-cc90-45da-825a-de19382aa2eb",
   "metadata": {},
   "outputs": [
    {
     "data": {
      "text/plain": [
       "'SRRR88888'"
      ]
     },
     "execution_count": 419,
     "metadata": {},
     "output_type": "execute_result"
    }
   ],
   "source": [
    "test = 'SRRR88888'\n",
    "test.split('_')[0]"
   ]
  }
 ],
 "metadata": {
  "kernelspec": {
   "display_name": "Python 3 (ipykernel)",
   "language": "python",
   "name": "python3"
  },
  "language_info": {
   "codemirror_mode": {
    "name": "ipython",
    "version": 3
   },
   "file_extension": ".py",
   "mimetype": "text/x-python",
   "name": "python",
   "nbconvert_exporter": "python",
   "pygments_lexer": "ipython3",
   "version": "3.9.9"
  }
 },
 "nbformat": 4,
 "nbformat_minor": 5
}
