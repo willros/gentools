{
 "cells": [
  {
   "cell_type": "code",
   "execution_count": null,
   "id": "813299f3-b3b5-428b-aa67-86513c2901c9",
   "metadata": {},
   "outputs": [],
   "source": [
    "from pathlib import Path\n",
    "import pandas as pd \n",
    "import numpy as np\n",
    "from plotnine import * \n"
   ]
  },
  {
   "cell_type": "code",
   "execution_count": null,
   "id": "7a75e5dd-ffc1-44b1-b7f6-05b9858cbf05",
   "metadata": {},
   "outputs": [],
   "source": [
    "folder = Path('../smallTseq/nya_gentools/results/')\n",
    "unwanted_files = ['coldata', 'de_genes']\n",
    "file_list = sorted([file for file in folder.iterdir() if file.suffix == '.csv' and file.stem not in unwanted_files])\n",
    "names = [file.stem for file in file_list]\n",
    "\n",
    "df_list = [pd.read_csv(file).assign(program=file.stem) for file in file_list]\n",
    "total_df = pd.concat(df_list)\n",
    "total_df['name'] = [x.split('_')[0] for x in total_df['name']]\n",
    "\n",
    "raw = (total_df\n",
    "    .groupby('name')\n",
    "    .max()\n",
    "    .reset_index()\n",
    "    .assign(program='raw')\n",
    "    .drop('post_filtering', axis=1)\n",
    "    .rename({'pre_filtering': 'value'}, axis=1))\n",
    "\n",
    "total_df = (total_df\n",
    "    .drop('pre_filtering', axis=1)\n",
    "    .rename({'post_filtering':'value'}, axis=1))\n",
    "\n",
    "plot = pd.concat([total_df, raw], ignore_index=True)\n",
    "\n"
   ]
  },
  {
   "cell_type": "code",
   "execution_count": null,
   "id": "27f4cca4-1803-4f4b-93cc-1f624c6c3059",
   "metadata": {
    "tags": []
   },
   "outputs": [],
   "source": [
    "fig = (plot >> \n",
    "       mutate(program = fct_reorder(f.program, f.value)) >>\n",
    "       ggplot(aes('program', 'value', fill='program')) +\n",
    "       geom_col() + facet_wrap('name') + \n",
    "       coord_flip() +\n",
    "       theme_seaborn() +\n",
    "       theme(axis_text_x = element_text(angle = 90)) +\n",
    "       labs(x='', \n",
    "           y='Number of reads',\n",
    "           title='Reads filtered by each program'))\n",
    "    \n",
    "\n",
    "\n",
    "\n"
   ]
  },
  {
   "cell_type": "code",
   "execution_count": null,
   "id": "6e03a296-dbb2-419b-bb87-65cfaf5b3559",
   "metadata": {},
   "outputs": [],
   "source": [
    "def plot_col_all(config: str) -> None:\n",
    "    '''Creates a facet plot over all samples and the relationship between reads after each processing step'''\n",
    "    \n",
    "    folder = CreateFolders(config)\n",
    "    unwanted_files = ['coldata', 'de_genes']\n",
    "    file_list = sorted([file for file in folder.results.iterdir() if file.suffix == '.csv' and file.stem not in unwanted_files])\n",
    "    \n",
    "    df_list = [pd.read_csv(file).assign(program=file.stem) for file in file_list]\n",
    "    total_df = pd.concat(df_list)\n",
    "    total_df['name'] = [x.split('_')[0] for x in total_df['name']]\n",
    "    \n",
    "    raw = (total_df\n",
    "    .groupby('name')\n",
    "    .max()\n",
    "    .reset_index()\n",
    "    .assign(program='raw')\n",
    "    .drop('post_filtering', axis=1)\n",
    "    .rename({'pre_filtering': 'value'}, axis=1))\n",
    "\n",
    "    total_df = (total_df\n",
    "    .drop('pre_filtering', axis=1)\n",
    "    .rename({'post_filtering':'value'}, axis=1))\n",
    "\n",
    "    plot = pd.concat([total_df, raw], ignore_index=True)\n",
    "    \n",
    "    fig = (plot >> \n",
    "       mutate(program = fct_reorder(f.program, f.value)) >>\n",
    "       ggplot(aes('program', 'value', fill='program')) +\n",
    "       geom_col() + facet_wrap('name') + \n",
    "       coord_flip() +\n",
    "       theme_seaborn() +\n",
    "       theme(axis_text_x = element_text(angle = 90)) +\n",
    "       labs(x='', \n",
    "           y='Number of reads',\n",
    "           title='Reads filtered by each program'))\n",
    "    \n",
    "    fig_save_name = folder.results / 'processed_files_all.pdf'\n",
    "    plot_save_name = folder.results / 'concatenated_processing_file.csv'\n",
    "    plot.to_csv(plot_save_name, index=False)\n",
    "    \n",
    "    \n"
   ]
  },
  {
   "cell_type": "code",
   "execution_count": null,
   "id": "375404a0-7ab8-4660-b23b-58e822f70e69",
   "metadata": {},
   "outputs": [],
   "source": [
    "\n",
    "\n",
    "fig = (plot >> \n",
    "       ggplot(aes('reorder(program, value)', 'value', fill='program')) +\n",
    "       geom_col() + facet_wrap('name', scales='free') + \n",
    "       coord_flip() +\n",
    "       theme_seaborn() +\n",
    "       theme(axis_text_x=element_text(angle=90)) +\n",
    "       labs(x='', \n",
    "           y='Number of reads',\n",
    "           title='Reads filtered by each program') +\n",
    "       theme(legend_title=element_blank(),\n",
    "            axis_text_y=element_blank()))\n",
    "\n",
    "fig"
   ]
  },
  {
   "cell_type": "code",
   "execution_count": null,
   "id": "5119ef13-c187-49c9-8d83-d7d3b583c59e",
   "metadata": {},
   "outputs": [],
   "source": [
    "import re \n",
    "\n",
    "log = '../SRR3495859_umi_tools_extract.log'\n",
    "with open(log, 'r') as f:\n",
    "    log_file = f.read()\n",
    "\n",
    "pattern_pre = re.compile(r'Total reads processed: +([\\d,]+)')\n",
    "pattern_post = re.compile(r'Reads written \\(passing filters\\): +([\\d,]+)')\n",
    "\n",
    "match_pre = re.findall(pattern_pre, log_file)\n",
    "\n",
    "match_pre\n",
    "match_post = re.findall(pattern_post, log_file)"
   ]
  },
  {
   "cell_type": "code",
   "execution_count": null,
   "id": "5000c01b-cc90-45da-825a-de19382aa2eb",
   "metadata": {},
   "outputs": [],
   "source": [
    "test = 'SRRR88888'\n",
    "test.split('_')[0]"
   ]
  },
  {
   "cell_type": "code",
   "execution_count": 1,
   "id": "012ed94d-2a96-4890-9249-24a3b5dc8baa",
   "metadata": {},
   "outputs": [],
   "source": [
    "from programs import FeatureCountsCommando"
   ]
  },
  {
   "cell_type": "code",
   "execution_count": 6,
   "id": "290052e1-1fa4-4893-8cc9-055423984809",
   "metadata": {},
   "outputs": [
    {
     "ename": "FileNotFoundError",
     "evalue": "[Errno 2] No such file or directory: '/Users/williamrosenbaum/Bioinformatics/gentools/gentools/test_data'",
     "output_type": "error",
     "traceback": [
      "\u001b[0;31m---------------------------------------------------------------------------\u001b[0m",
      "\u001b[0;31mFileNotFoundError\u001b[0m                         Traceback (most recent call last)",
      "\u001b[0;32m/var/folders/cr/stttfhgn1gz1nl2kh5k1dcqh0000gn/T/ipykernel_44347/3591432519.py\u001b[0m in \u001b[0;36m<module>\u001b[0;34m\u001b[0m\n\u001b[1;32m      1\u001b[0m \u001b[0mfeat\u001b[0m \u001b[0;34m=\u001b[0m \u001b[0mFeatureCountsCommando\u001b[0m\u001b[0;34m(\u001b[0m\u001b[0;34m'../test_yaml.yaml'\u001b[0m\u001b[0;34m)\u001b[0m\u001b[0;34m\u001b[0m\u001b[0;34m\u001b[0m\u001b[0m\n\u001b[1;32m      2\u001b[0m \u001b[0;34m\u001b[0m\u001b[0m\n\u001b[0;32m----> 3\u001b[0;31m \u001b[0mfeat\u001b[0m\u001b[0;34m.\u001b[0m\u001b[0mcreate_command\u001b[0m\u001b[0;34m(\u001b[0m\u001b[0;34m)\u001b[0m\u001b[0;34m\u001b[0m\u001b[0;34m\u001b[0m\u001b[0m\n\u001b[0m",
      "\u001b[0;32m~/Bioinformatics/gentools/gentools/programs.py\u001b[0m in \u001b[0;36mcreate_command\u001b[0;34m(self)\u001b[0m\n\u001b[1;32m    283\u001b[0m     \u001b[0;32mdef\u001b[0m \u001b[0mcreate_command\u001b[0m\u001b[0;34m(\u001b[0m\u001b[0mself\u001b[0m\u001b[0;34m)\u001b[0m\u001b[0;34m:\u001b[0m\u001b[0;34m\u001b[0m\u001b[0;34m\u001b[0m\u001b[0m\n\u001b[1;32m    284\u001b[0m         \u001b[0;31m# to get the attribute self.input_files, self.extract_parameters needs to be run\u001b[0m\u001b[0;34m\u001b[0m\u001b[0;34m\u001b[0m\u001b[0m\n\u001b[0;32m--> 285\u001b[0;31m         \u001b[0mself\u001b[0m\u001b[0;34m.\u001b[0m\u001b[0mextract_parameters\u001b[0m\u001b[0;34m(\u001b[0m\u001b[0;34m)\u001b[0m\u001b[0;34m\u001b[0m\u001b[0;34m\u001b[0m\u001b[0m\n\u001b[0m\u001b[1;32m    286\u001b[0m         \u001b[0mcommand\u001b[0m \u001b[0;34m=\u001b[0m \u001b[0mself\u001b[0m\u001b[0;34m.\u001b[0m\u001b[0mextract_parameters\u001b[0m\u001b[0;34m(\u001b[0m\u001b[0;34m)\u001b[0m\u001b[0;34m\u001b[0m\u001b[0;34m\u001b[0m\u001b[0m\n\u001b[1;32m    287\u001b[0m         \u001b[0mself\u001b[0m\u001b[0;34m.\u001b[0m\u001b[0mcount_matrix\u001b[0m \u001b[0;34m=\u001b[0m \u001b[0mPath\u001b[0m\u001b[0;34m(\u001b[0m\u001b[0mself\u001b[0m\u001b[0;34m.\u001b[0m\u001b[0mfolders\u001b[0m\u001b[0;34m.\u001b[0m\u001b[0mfeature_counts\u001b[0m\u001b[0;34m,\u001b[0m \u001b[0;34m'count_matrix.txt'\u001b[0m\u001b[0;34m)\u001b[0m\u001b[0;34m\u001b[0m\u001b[0;34m\u001b[0m\u001b[0m\n",
      "\u001b[0;32m~/Bioinformatics/gentools/gentools/programs.py\u001b[0m in \u001b[0;36mextract_parameters\u001b[0;34m(self)\u001b[0m\n\u001b[1;32m    267\u001b[0m             \u001b[0;32mfor\u001b[0m \u001b[0mkey\u001b[0m\u001b[0;34m,\u001b[0m \u001b[0mvalue\u001b[0m \u001b[0;32min\u001b[0m \u001b[0mparams\u001b[0m\u001b[0;34m.\u001b[0m\u001b[0mitems\u001b[0m\u001b[0;34m(\u001b[0m\u001b[0;34m)\u001b[0m\u001b[0;34m:\u001b[0m\u001b[0;34m\u001b[0m\u001b[0;34m\u001b[0m\u001b[0m\n\u001b[1;32m    268\u001b[0m                 \u001b[0;32mif\u001b[0m \u001b[0mkey\u001b[0m \u001b[0;34m==\u001b[0m \u001b[0;34m'input'\u001b[0m\u001b[0;34m:\u001b[0m\u001b[0;34m\u001b[0m\u001b[0;34m\u001b[0m\u001b[0m\n\u001b[0;32m--> 269\u001b[0;31m                     \u001b[0mself\u001b[0m\u001b[0;34m.\u001b[0m\u001b[0minput_files\u001b[0m \u001b[0;34m=\u001b[0m \u001b[0mself\u001b[0m\u001b[0;34m.\u001b[0m\u001b[0mreads_in\u001b[0m\u001b[0;34m(\u001b[0m\u001b[0mvalue\u001b[0m\u001b[0;34m,\u001b[0m \u001b[0msuffix\u001b[0m\u001b[0;34m=\u001b[0m\u001b[0;34m'.bam'\u001b[0m\u001b[0;34m)\u001b[0m\u001b[0;34m\u001b[0m\u001b[0;34m\u001b[0m\u001b[0m\n\u001b[0m\u001b[1;32m    270\u001b[0m                 \u001b[0;32melif\u001b[0m \u001b[0mkey\u001b[0m \u001b[0;32min\u001b[0m \u001b[0;34m[\u001b[0m\u001b[0;34m'O'\u001b[0m\u001b[0;34m,\u001b[0m \u001b[0;34m'f'\u001b[0m\u001b[0;34m,\u001b[0m \u001b[0;34m'M'\u001b[0m\u001b[0;34m]\u001b[0m\u001b[0;34m:\u001b[0m\u001b[0;34m\u001b[0m\u001b[0;34m\u001b[0m\u001b[0m\n\u001b[1;32m    271\u001b[0m                     \u001b[0mcommand\u001b[0m\u001b[0;34m.\u001b[0m\u001b[0mappend\u001b[0m\u001b[0;34m(\u001b[0m\u001b[0;34mf'-{key}'\u001b[0m\u001b[0;34m)\u001b[0m\u001b[0;34m\u001b[0m\u001b[0;34m\u001b[0m\u001b[0m\n",
      "\u001b[0;32m~/Bioinformatics/gentools/gentools/programs.py\u001b[0m in \u001b[0;36mreads_in\u001b[0;34m(self, folder, suffix)\u001b[0m\n\u001b[1;32m     24\u001b[0m         \u001b[0mfolder\u001b[0m \u001b[0;34m=\u001b[0m \u001b[0mself\u001b[0m\u001b[0;34m.\u001b[0m\u001b[0m_reads_in_dict\u001b[0m\u001b[0;34m(\u001b[0m\u001b[0mfolder\u001b[0m\u001b[0;34m)\u001b[0m\u001b[0;34m\u001b[0m\u001b[0;34m\u001b[0m\u001b[0m\n\u001b[1;32m     25\u001b[0m         \u001b[0;32mif\u001b[0m \u001b[0msuffix\u001b[0m\u001b[0;34m:\u001b[0m\u001b[0;34m\u001b[0m\u001b[0;34m\u001b[0m\u001b[0m\n\u001b[0;32m---> 26\u001b[0;31m             \u001b[0;32mreturn\u001b[0m \u001b[0msorted\u001b[0m\u001b[0;34m(\u001b[0m\u001b[0;34m[\u001b[0m\u001b[0mread\u001b[0m \u001b[0;32mfor\u001b[0m \u001b[0mread\u001b[0m \u001b[0;32min\u001b[0m \u001b[0mfolder\u001b[0m\u001b[0;34m.\u001b[0m\u001b[0miterdir\u001b[0m\u001b[0;34m(\u001b[0m\u001b[0;34m)\u001b[0m \u001b[0;32mif\u001b[0m \u001b[0mread\u001b[0m\u001b[0;34m.\u001b[0m\u001b[0msuffix\u001b[0m \u001b[0;34m==\u001b[0m \u001b[0msuffix\u001b[0m\u001b[0;34m]\u001b[0m\u001b[0;34m)\u001b[0m\u001b[0;34m\u001b[0m\u001b[0;34m\u001b[0m\u001b[0m\n\u001b[0m\u001b[1;32m     27\u001b[0m         \u001b[0;32mreturn\u001b[0m \u001b[0msorted\u001b[0m\u001b[0;34m(\u001b[0m\u001b[0;34m[\u001b[0m\u001b[0mread\u001b[0m \u001b[0;32mfor\u001b[0m \u001b[0mread\u001b[0m \u001b[0;32min\u001b[0m \u001b[0mfolder\u001b[0m\u001b[0;34m.\u001b[0m\u001b[0miterdir\u001b[0m\u001b[0;34m(\u001b[0m\u001b[0;34m)\u001b[0m \u001b[0;32mif\u001b[0m \u001b[0mread\u001b[0m\u001b[0;34m.\u001b[0m\u001b[0mis_file\u001b[0m\u001b[0;34m(\u001b[0m\u001b[0;34m)\u001b[0m\u001b[0;34m]\u001b[0m\u001b[0;34m)\u001b[0m\u001b[0;34m\u001b[0m\u001b[0;34m\u001b[0m\u001b[0m\n\u001b[1;32m     28\u001b[0m \u001b[0;34m\u001b[0m\u001b[0m\n",
      "\u001b[0;32m~/Bioinformatics/gentools/gentools/programs.py\u001b[0m in \u001b[0;36m<listcomp>\u001b[0;34m(.0)\u001b[0m\n\u001b[1;32m     24\u001b[0m         \u001b[0mfolder\u001b[0m \u001b[0;34m=\u001b[0m \u001b[0mself\u001b[0m\u001b[0;34m.\u001b[0m\u001b[0m_reads_in_dict\u001b[0m\u001b[0;34m(\u001b[0m\u001b[0mfolder\u001b[0m\u001b[0;34m)\u001b[0m\u001b[0;34m\u001b[0m\u001b[0;34m\u001b[0m\u001b[0m\n\u001b[1;32m     25\u001b[0m         \u001b[0;32mif\u001b[0m \u001b[0msuffix\u001b[0m\u001b[0;34m:\u001b[0m\u001b[0;34m\u001b[0m\u001b[0;34m\u001b[0m\u001b[0m\n\u001b[0;32m---> 26\u001b[0;31m             \u001b[0;32mreturn\u001b[0m \u001b[0msorted\u001b[0m\u001b[0;34m(\u001b[0m\u001b[0;34m[\u001b[0m\u001b[0mread\u001b[0m \u001b[0;32mfor\u001b[0m \u001b[0mread\u001b[0m \u001b[0;32min\u001b[0m \u001b[0mfolder\u001b[0m\u001b[0;34m.\u001b[0m\u001b[0miterdir\u001b[0m\u001b[0;34m(\u001b[0m\u001b[0;34m)\u001b[0m \u001b[0;32mif\u001b[0m \u001b[0mread\u001b[0m\u001b[0;34m.\u001b[0m\u001b[0msuffix\u001b[0m \u001b[0;34m==\u001b[0m \u001b[0msuffix\u001b[0m\u001b[0;34m]\u001b[0m\u001b[0;34m)\u001b[0m\u001b[0;34m\u001b[0m\u001b[0;34m\u001b[0m\u001b[0m\n\u001b[0m\u001b[1;32m     27\u001b[0m         \u001b[0;32mreturn\u001b[0m \u001b[0msorted\u001b[0m\u001b[0;34m(\u001b[0m\u001b[0;34m[\u001b[0m\u001b[0mread\u001b[0m \u001b[0;32mfor\u001b[0m \u001b[0mread\u001b[0m \u001b[0;32min\u001b[0m \u001b[0mfolder\u001b[0m\u001b[0;34m.\u001b[0m\u001b[0miterdir\u001b[0m\u001b[0;34m(\u001b[0m\u001b[0;34m)\u001b[0m \u001b[0;32mif\u001b[0m \u001b[0mread\u001b[0m\u001b[0;34m.\u001b[0m\u001b[0mis_file\u001b[0m\u001b[0;34m(\u001b[0m\u001b[0;34m)\u001b[0m\u001b[0;34m]\u001b[0m\u001b[0;34m)\u001b[0m\u001b[0;34m\u001b[0m\u001b[0;34m\u001b[0m\u001b[0m\n\u001b[1;32m     28\u001b[0m \u001b[0;34m\u001b[0m\u001b[0m\n",
      "\u001b[0;32m~/opt/miniconda3/envs/smallseq/lib/python3.9/pathlib.py\u001b[0m in \u001b[0;36miterdir\u001b[0;34m(self)\u001b[0m\n\u001b[1;32m   1158\u001b[0m         \u001b[0mresult\u001b[0m \u001b[0;32mfor\u001b[0m \u001b[0mthe\u001b[0m \u001b[0mspecial\u001b[0m \u001b[0mpaths\u001b[0m \u001b[0;34m'.'\u001b[0m \u001b[0;32mand\u001b[0m \u001b[0;34m'..'\u001b[0m\u001b[0;34m.\u001b[0m\u001b[0;34m\u001b[0m\u001b[0;34m\u001b[0m\u001b[0m\n\u001b[1;32m   1159\u001b[0m         \"\"\"\n\u001b[0;32m-> 1160\u001b[0;31m         \u001b[0;32mfor\u001b[0m \u001b[0mname\u001b[0m \u001b[0;32min\u001b[0m \u001b[0mself\u001b[0m\u001b[0;34m.\u001b[0m\u001b[0m_accessor\u001b[0m\u001b[0;34m.\u001b[0m\u001b[0mlistdir\u001b[0m\u001b[0;34m(\u001b[0m\u001b[0mself\u001b[0m\u001b[0;34m)\u001b[0m\u001b[0;34m:\u001b[0m\u001b[0;34m\u001b[0m\u001b[0;34m\u001b[0m\u001b[0m\n\u001b[0m\u001b[1;32m   1161\u001b[0m             \u001b[0;32mif\u001b[0m \u001b[0mname\u001b[0m \u001b[0;32min\u001b[0m \u001b[0;34m{\u001b[0m\u001b[0;34m'.'\u001b[0m\u001b[0;34m,\u001b[0m \u001b[0;34m'..'\u001b[0m\u001b[0;34m}\u001b[0m\u001b[0;34m:\u001b[0m\u001b[0;34m\u001b[0m\u001b[0;34m\u001b[0m\u001b[0m\n\u001b[1;32m   1162\u001b[0m                 \u001b[0;31m# Yielding a path object for these makes little sense\u001b[0m\u001b[0;34m\u001b[0m\u001b[0;34m\u001b[0m\u001b[0m\n",
      "\u001b[0;31mFileNotFoundError\u001b[0m: [Errno 2] No such file or directory: '/Users/williamrosenbaum/Bioinformatics/gentools/gentools/test_data'"
     ]
    }
   ],
   "source": [
    "feat = FeatureCountsCommando('../test_yaml.yaml')\n",
    "\n",
    "feat.create_command()"
   ]
  }
 ],
 "metadata": {
  "kernelspec": {
   "display_name": "Python 3 (ipykernel)",
   "language": "python",
   "name": "python3"
  },
  "language_info": {
   "codemirror_mode": {
    "name": "ipython",
    "version": 3
   },
   "file_extension": ".py",
   "mimetype": "text/x-python",
   "name": "python",
   "nbconvert_exporter": "python",
   "pygments_lexer": "ipython3",
   "version": "3.9.9"
  }
 },
 "nbformat": 4,
 "nbformat_minor": 5
}
