{
 "cells": [
  {
   "cell_type": "code",
   "execution_count": 1,
   "id": "33ffe46d-f9bc-4bbe-8ec5-ef82e341b46d",
   "metadata": {},
   "outputs": [
    {
     "name": "stdout",
     "output_type": "stream",
     "text": [
      "/Users/williamrosenbaum/Bioinformatics/gentools\n"
     ]
    }
   ],
   "source": [
    "from programs import CutadaptCommando\n",
    "%cd .."
   ]
  },
  {
   "cell_type": "code",
   "execution_count": 4,
   "id": "043a8469-47d6-43cb-bc09-baaa42dc9418",
   "metadata": {},
   "outputs": [],
   "source": [
    "cut = CutadaptCommando('test_yaml.yaml')"
   ]
  },
  {
   "cell_type": "code",
   "execution_count": 5,
   "id": "d388fcdd-9a9c-4d4c-b67b-78e47b1713d9",
   "metadata": {},
   "outputs": [
    {
     "name": "stdout",
     "output_type": "stream",
     "text": [
      "['cutadapt', '-j', '6', '--adapter', 'TGGAATTCTCGGGTGCCAAGG', '--minimum-length', '18', '--maximum-length', '41', '--error-rate', '0.1', '--overlap', '1', '-o', PosixPath('/Users/williamrosenbaum/Bioinformatics/gentools/testar_lite/cutadapt/processed/mock_cutadapt.fasta'), PosixPath('/Users/williamrosenbaum/Bioinformatics/gentools/test_data/mock.fasta')]\n",
      "['cutadapt', '-j', '6', '--adapter', 'TGGAATTCTCGGGTGCCAAGG', '--minimum-length', '18', '--maximum-length', '41', '--error-rate', '0.1', '--overlap', '1', '-o', PosixPath('/Users/williamrosenbaum/Bioinformatics/gentools/testar_lite/cutadapt/processed/mock2_cutadapt.fasta'), PosixPath('/Users/williamrosenbaum/Bioinformatics/gentools/test_data/mock2.fasta')]\n"
     ]
    }
   ],
   "source": [
    "for a,b in cut.create_command():\n",
    "    print(a)"
   ]
  },
  {
   "cell_type": "code",
   "execution_count": 23,
   "id": "62b7b446-47bd-466a-b128-8491e36f19eb",
   "metadata": {},
   "outputs": [],
   "source": [
    "import yaml\n",
    "\n",
    "with open('test_yaml.yaml', 'r') as f:\n",
    "    file = f.read()"
   ]
  },
  {
   "cell_type": "code",
   "execution_count": 24,
   "id": "62a3e4a6-6449-44ab-8cc1-b189623d70cc",
   "metadata": {},
   "outputs": [
    {
     "data": {
      "text/plain": [
       "'#SETUP \\nraw_reads: test_data\\nworking_directory: testar_lite\\nthreads: 6\\n\\n# choose input between: raw, cutadapt, umi_tools_extract, umi_tools_dedup,\\n# bowtie2_aligned, bowtie2_unaligned, star_aligned, star_unaligned...\\numi_tools_extract:\\n- input: raw\\n- mode: extract\\n- extract-method: regex\\n- bc-pattern: (?P<discard_1>.*)(?P<umi_1>[ACT]{8}CA)\\n\\n# Y for yes N for no\\ncutadapt:\\n- input: raw\\n- adapter: TGGAATTCTCGGGTGCCAAGG\\n- minimum-length: 18\\n- maximum-length: 41\\n- error-rate: 0.1\\n- overlap: 1\\n- trimmed_only?: N\\n\\nfastp:\\n- input: raw\\n- adapter_sequence: TGGAATTCTCGGGTGCCAAGG\\n\\n# enter folder and prefix of index name, e.g. index/human_genome/hg38\\nbowtie2:\\n- input: cutadapt\\n- k: 100\\n- local: very-sensitive-local\\n- x: indices/bowtie2/GRCh38/GRCh38_noalt_as\\n\\numi_tools_dedup:\\n- input: bowtie2_aligned\\n- mode: dedup\\n- method: unique\\n\\n\\n# enter the path to the annotation file (a), GTF or GFF\\nfeatureCounts:\\n- input: umi_tools_dedup\\n- t: miRNA\\n- g: ID\\n- f:\\n- O:\\n- a: annotation/mirbase_hsa.gff\\n\\n# create csv with only samples and empty condition column. User should be able to enter wich row number should be what:\\n# e.g. 1-10 = cancer. 11-20 = normal, and the program should then insert that information\\nDESeq2:\\n- input: featureCounts\\n- coldata:\\n    - sick: 1 - 1\\n    - normal: 2 - 3\\n\\norder:\\n- umi_tools_extract\\n- cutadapt\\n- bowtie2\\n- umi_tools_dedup\\n- featureCounts\\n#- DESeq2\\n'"
      ]
     },
     "execution_count": 24,
     "metadata": {},
     "output_type": "execute_result"
    }
   ],
   "source": [
    "file"
   ]
  }
 ],
 "metadata": {
  "kernelspec": {
   "display_name": "Python 3 (ipykernel)",
   "language": "python",
   "name": "python3"
  },
  "language_info": {
   "codemirror_mode": {
    "name": "ipython",
    "version": 3
   },
   "file_extension": ".py",
   "mimetype": "text/x-python",
   "name": "python",
   "nbconvert_exporter": "python",
   "pygments_lexer": "ipython3",
   "version": "3.9.9"
  }
 },
 "nbformat": 4,
 "nbformat_minor": 5
}
